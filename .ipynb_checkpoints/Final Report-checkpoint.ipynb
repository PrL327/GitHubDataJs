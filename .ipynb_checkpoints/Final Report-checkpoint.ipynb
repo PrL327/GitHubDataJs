{
 "cells": [
  {
   "cell_type": "markdown",
   "metadata": {},
   "source": [
    "# Final Report: Programming Languages and GitHub\n",
    "By Daniel Fraser and Peter Laskai"
   ]
  },
  {
   "cell_type": "markdown",
   "metadata": {},
   "source": [
    "# Describe project goals and why it is interesting \n",
    "We plan to use this data to predict which languages are being used, what they’re being used for (commercial, fun, etc). The data behind Github is fascinating because it is one the most used version control software out there and allows the public to see the trend of languages throughout the years and see what type of projects people create, and how they collaborate with one another."
   ]
  },
  {
   "cell_type": "markdown",
   "metadata": {},
   "source": [
    "# Describe data collection/source of data, data format, data preprocessing\n",
    "This dataset gives us info on what languages are used, its files (including their contents) and their size along with info on commits. We will use a combination of the data from bigquery along with using Github’s official api using javascript. Bigquery’s data is listed as tables, while the api will give us info in the form of an API response as json file. With bigquery, we have to eliminate rows that have a date before the creation of github (which is about 0.04% (10 million) which is most likely an error from importing data to bigQuery) of the total rows. With the api, we eliminate some of the redundant information such as owner of repo (since unless you’re searching, you get the repo based off the username).\n",
    "\n",
    "One of our data collection source was Octokit’s [rest.js](https://github.com/octokit/rest.js), a JavaScript based API scraper tool adopted by the GitHub team. From there we could access a large amount github data arranging from, user info, repository details, gists, issues, and pull requests from 24 million users.This is an example of a “query” using rest.js:\n",
    "```\n",
    "//This specific function gets all the info of JavaFXMusicLibrary repository from user PrL327\n",
    "octokit.repos.get({\n",
    "  owner: 'prl327',\n",
    "  repo: 'JavaFXMusicLibrary'\n",
    "}).then(({data}) => {\n",
    "  console.log(data);\n",
    "}); \n",
    "```\n",
    " Right now since we can only evaluate data that is public like public organizations and public repos, we had to put a safeguard in which we return 0, which in the end we filter out. We also have to worry about hitting the query limit for the api which is 1000 queries a hour. We actually combined the use of BigQuery and Rest.js in one example. We had a csv file which contained two columns for username and repository, with about 10,000 rows. to easily process that csv file through our query we needed to convert it to a JSON for easy parsing. For this we used csv a node library and it's resepective functions to do the conversion, it produce an object like such:\n",
    " ```\n",
    " {\n",
    "     \"User\": \"prl327\",\n",
    "     \"Repository\": \"JavaFXMusicLibrary\"\n",
    " }\n",
    " ```\n",
    " And so on for 10,000 more user/repo combinations."
   ]
  },
  {
   "cell_type": "markdown",
   "metadata": {},
   "source": [
    "# Describe contents of data in detail (write code to analyse and visualize it) \n"
   ]
  },
  {
   "cell_type": "markdown",
   "metadata": {},
   "source": [
    "### Why Github?\n",
    "Githhub is a very active community with millions of user constantly collaborating and contributing to projects.  We gathered contributer data using the github api since bigquery doesn't have any tables with information on contributors. We were surpised to find that most of the projects hosted there on github are only worked by only one person."
   ]
  },
  {
   "cell_type": "code",
   "execution_count": 1,
   "metadata": {
    "scrolled": false
   },
   "outputs": [
    {
     "ename": "SyntaxError",
     "evalue": "invalid syntax (<ipython-input-1-6630a5805c8f>, line 2)",
     "output_type": "error",
     "traceback": [
      "\u001b[1;36m  File \u001b[1;32m\"<ipython-input-1-6630a5805c8f>\"\u001b[1;36m, line \u001b[1;32m2\u001b[0m\n\u001b[1;33m    hist(repos$contributors[repos$contributors > 0 & repos$contributors < 30], 10,\u001b[0m\n\u001b[1;37m              ^\u001b[0m\n\u001b[1;31mSyntaxError\u001b[0m\u001b[1;31m:\u001b[0m invalid syntax\n"
     ]
    }
   ],
   "source": [
    "repos <- read.csv(\"repos.csv\", header = TRUE)\n",
    "hist(repos$contributors[repos$contributors > 0 & repos$contributors < 30], 10,\n",
    "     col = rainbow(20), xlab = \"Number of contributors\", main = \"Frequency of number of contributors\\n(for repositories with less than 30 contributors)\")"
   ]
  },
  {
   "cell_type": "markdown",
   "metadata": {},
   "source": [
    "## Languages Used the most"
   ]
  },
  {
   "cell_type": "code",
   "execution_count": 2,
   "metadata": {
    "scrolled": false
   },
   "outputs": [
    {
     "data": {
      "text/html": [
       "<script>requirejs.config({paths: { 'plotly': ['https://cdn.plot.ly/plotly-latest.min']},});if(!window.Plotly) {{require(['plotly'],function(plotly) {window.Plotly=plotly;});}}</script>"
      ],
      "text/vnd.plotly.v1+html": [
       "<script>requirejs.config({paths: { 'plotly': ['https://cdn.plot.ly/plotly-latest.min']},});if(!window.Plotly) {{require(['plotly'],function(plotly) {window.Plotly=plotly;});}}</script>"
      ]
     },
     "metadata": {},
     "output_type": "display_data"
    },
    {
     "data": {
      "application/vnd.plotly.v1+json": {
       "data": [
        {
         "type": "scatter",
         "x": [
          "JavaScript",
          "CSS",
          "HTML",
          "Shell",
          "Python",
          "Ruby",
          "Java",
          "PHP",
          "C",
          "C++",
          "Makefile",
          "Objective-C",
          "C#",
          "Perl",
          "Batchfile"
         ],
         "y": [
          "1118936",
          "832453",
          "793241",
          "648203",
          "556358",
          "381878",
          "374692",
          "347274",
          "299791",
          "284654",
          "254309",
          "173268",
          "135231",
          "105163",
          "100085"
         ]
        }
       ],
       "layout": {
        "title": "Top 15 Languages"
       }
      },
      "text/html": [
       "<div id=\"3f61b72d-9d76-4503-bb76-1e41a4b8e59c\" style=\"height: 525px; width: 100%;\" class=\"plotly-graph-div\"></div><script type=\"text/javascript\">require([\"plotly\"], function(Plotly) { window.PLOTLYENV=window.PLOTLYENV || {};window.PLOTLYENV.BASE_URL=\"https://plot.ly\";Plotly.newPlot(\"3f61b72d-9d76-4503-bb76-1e41a4b8e59c\", [{\"type\": \"scatter\", \"x\": [\"JavaScript\", \"CSS\", \"HTML\", \"Shell\", \"Python\", \"Ruby\", \"Java\", \"PHP\", \"C\", \"C++\", \"Makefile\", \"Objective-C\", \"C#\", \"Perl\", \"Batchfile\"], \"y\": [\"1118936\", \"832453\", \"793241\", \"648203\", \"556358\", \"381878\", \"374692\", \"347274\", \"299791\", \"284654\", \"254309\", \"173268\", \"135231\", \"105163\", \"100085\"]}], {\"title\": \"Top 15 Languages\"}, {\"showLink\": true, \"linkText\": \"Export to plot.ly\"})});</script>"
      ],
      "text/vnd.plotly.v1+html": [
       "<div id=\"3f61b72d-9d76-4503-bb76-1e41a4b8e59c\" style=\"height: 525px; width: 100%;\" class=\"plotly-graph-div\"></div><script type=\"text/javascript\">require([\"plotly\"], function(Plotly) { window.PLOTLYENV=window.PLOTLYENV || {};window.PLOTLYENV.BASE_URL=\"https://plot.ly\";Plotly.newPlot(\"3f61b72d-9d76-4503-bb76-1e41a4b8e59c\", [{\"type\": \"scatter\", \"x\": [\"JavaScript\", \"CSS\", \"HTML\", \"Shell\", \"Python\", \"Ruby\", \"Java\", \"PHP\", \"C\", \"C++\", \"Makefile\", \"Objective-C\", \"C#\", \"Perl\", \"Batchfile\"], \"y\": [\"1118936\", \"832453\", \"793241\", \"648203\", \"556358\", \"381878\", \"374692\", \"347274\", \"299791\", \"284654\", \"254309\", \"173268\", \"135231\", \"105163\", \"100085\"]}], {\"title\": \"Top 15 Languages\"}, {\"showLink\": true, \"linkText\": \"Export to plot.ly\"})});</script>"
      ]
     },
     "metadata": {},
     "output_type": "display_data"
    }
   ],
   "source": [
    "import plotly as py\n",
    "from plotly.graph_objs import *\n",
    "import pandas\n",
    "col = ['name', 'occurences', '']\n",
    "csv_data = pandas.read_csv('most_languages.csv', names=col)\n",
    "lang = csv_data.name.tolist()\n",
    "occ = csv_data.occurences.tolist()\n",
    "lang.pop(0)\n",
    "occ.pop(0)\n",
    "x = lang\n",
    "y = occ\n",
    "\n",
    "py.offline.init_notebook_mode(connected=True)\n",
    "\n",
    "py.offline.iplot({\n",
    "    \"data\": [Scatter(x=lang, y=occ)],\n",
    "    \"layout\": Layout(title=\"Top 15 Languages\")\n",
    "})"
   ]
  },
  {
   "cell_type": "markdown",
   "metadata": {},
   "source": [
    "## Languages Used the Least"
   ]
  },
  {
   "cell_type": "code",
   "execution_count": 3,
   "metadata": {},
   "outputs": [
    {
     "data": {
      "text/html": [
       "<script>requirejs.config({paths: { 'plotly': ['https://cdn.plot.ly/plotly-latest.min']},});if(!window.Plotly) {{require(['plotly'],function(plotly) {window.Plotly=plotly;});}}</script>"
      ],
      "text/vnd.plotly.v1+html": [
       "<script>requirejs.config({paths: { 'plotly': ['https://cdn.plot.ly/plotly-latest.min']},});if(!window.Plotly) {{require(['plotly'],function(plotly) {window.Plotly=plotly;});}}</script>"
      ]
     },
     "metadata": {},
     "output_type": "display_data"
    },
    {
     "data": {
      "application/vnd.plotly.v1+json": {
       "data": [
        {
         "type": "scatter",
         "x": [
          "Ring",
          "Markdown",
          "NetLinx+ERB",
          "DataWeave",
          "LFE",
          "RUNOFF",
          "Opal",
          "Befunge",
          "TI Program",
          "LoomScript",
          "Omgrofl",
          "Solidity",
          "Rouge",
          "Glyph",
          "Charity"
         ],
         "y": [
          "1",
          "1",
          "3",
          "4",
          "4",
          "5",
          "7",
          "7",
          "7",
          "8",
          "8",
          "10",
          "11",
          "11",
          "11"
         ]
        }
       ],
       "layout": {
        "title": "Least Used 15 Languages"
       }
      },
      "text/html": [
       "<div id=\"47b4d3bf-ce44-4388-94dc-0d24c8e076e6\" style=\"height: 525px; width: 100%;\" class=\"plotly-graph-div\"></div><script type=\"text/javascript\">require([\"plotly\"], function(Plotly) { window.PLOTLYENV=window.PLOTLYENV || {};window.PLOTLYENV.BASE_URL=\"https://plot.ly\";Plotly.newPlot(\"47b4d3bf-ce44-4388-94dc-0d24c8e076e6\", [{\"type\": \"scatter\", \"x\": [\"Ring\", \"Markdown\", \"NetLinx+ERB\", \"DataWeave\", \"LFE\", \"RUNOFF\", \"Opal\", \"Befunge\", \"TI Program\", \"LoomScript\", \"Omgrofl\", \"Solidity\", \"Rouge\", \"Glyph\", \"Charity\"], \"y\": [\"1\", \"1\", \"3\", \"4\", \"4\", \"5\", \"7\", \"7\", \"7\", \"8\", \"8\", \"10\", \"11\", \"11\", \"11\"]}], {\"title\": \"Least Used 15 Languages\"}, {\"showLink\": true, \"linkText\": \"Export to plot.ly\"})});</script>"
      ],
      "text/vnd.plotly.v1+html": [
       "<div id=\"47b4d3bf-ce44-4388-94dc-0d24c8e076e6\" style=\"height: 525px; width: 100%;\" class=\"plotly-graph-div\"></div><script type=\"text/javascript\">require([\"plotly\"], function(Plotly) { window.PLOTLYENV=window.PLOTLYENV || {};window.PLOTLYENV.BASE_URL=\"https://plot.ly\";Plotly.newPlot(\"47b4d3bf-ce44-4388-94dc-0d24c8e076e6\", [{\"type\": \"scatter\", \"x\": [\"Ring\", \"Markdown\", \"NetLinx+ERB\", \"DataWeave\", \"LFE\", \"RUNOFF\", \"Opal\", \"Befunge\", \"TI Program\", \"LoomScript\", \"Omgrofl\", \"Solidity\", \"Rouge\", \"Glyph\", \"Charity\"], \"y\": [\"1\", \"1\", \"3\", \"4\", \"4\", \"5\", \"7\", \"7\", \"7\", \"8\", \"8\", \"10\", \"11\", \"11\", \"11\"]}], {\"title\": \"Least Used 15 Languages\"}, {\"showLink\": true, \"linkText\": \"Export to plot.ly\"})});</script>"
      ]
     },
     "metadata": {},
     "output_type": "display_data"
    }
   ],
   "source": [
    "import plotly as py\n",
    "from plotly.graph_objs import *\n",
    "import pandas\n",
    "col = ['name', 'occurences', '']\n",
    "csv_data = pandas.read_csv('least_languages.csv', names=col)\n",
    "lang = csv_data.name.tolist()\n",
    "occ = csv_data.occurences.tolist()\n",
    "lang.pop(0)\n",
    "occ.pop(0)\n",
    "x = lang\n",
    "y = occ\n",
    "\n",
    "py.offline.init_notebook_mode(connected=True)\n",
    "\n",
    "py.offline.iplot({\n",
    "    \"data\": [Scatter(x=lang, y=occ)],\n",
    "    \"layout\": Layout(title=\"Least Used 15 Languages\")\n",
    "})"
   ]
  },
  {
   "cell_type": "markdown",
   "metadata": {},
   "source": [
    "## 15 Languages using the most bytes"
   ]
  },
  {
   "cell_type": "code",
   "execution_count": 4,
   "metadata": {
    "scrolled": false
   },
   "outputs": [
    {
     "data": {
      "text/html": [
       "<script>requirejs.config({paths: { 'plotly': ['https://cdn.plot.ly/plotly-latest.min']},});if(!window.Plotly) {{require(['plotly'],function(plotly) {window.Plotly=plotly;});}}</script>"
      ],
      "text/vnd.plotly.v1+html": [
       "<script>requirejs.config({paths: { 'plotly': ['https://cdn.plot.ly/plotly-latest.min']},});if(!window.Plotly) {{require(['plotly'],function(plotly) {window.Plotly=plotly;});}}</script>"
      ]
     },
     "metadata": {},
     "output_type": "display_data"
    },
    {
     "data": {
      "application/vnd.plotly.v1+json": {
       "data": [
        {
         "fill": "tozeroy",
         "type": "scatter",
         "x": [
          "name",
          "C",
          "JavaScript",
          "C++",
          "PHP",
          "HTML",
          "Java",
          "Python",
          "CSS",
          "Assembly",
          "C#",
          "Go",
          "Objective-C",
          "Jupyter Notebook",
          "Ruby",
          "TypeScript"
         ],
         "y": [
          "totalBytes",
          "6319402460530",
          "1249267936642",
          "529122299493",
          "519028950155",
          "329636532661",
          "301660587030",
          "181598737440",
          "155046266421",
          "137581430043",
          "136612226532",
          "65753518937",
          "60614108953",
          "54444110173",
          "36483511776",
          "32409649825"
         ]
        }
       ],
       "layout": {}
      },
      "text/html": [
       "<div id=\"c482c7e0-aeb2-4920-8ca4-8904f826e3ec\" style=\"height: 525px; width: 100%;\" class=\"plotly-graph-div\"></div><script type=\"text/javascript\">require([\"plotly\"], function(Plotly) { window.PLOTLYENV=window.PLOTLYENV || {};window.PLOTLYENV.BASE_URL=\"https://plot.ly\";Plotly.newPlot(\"c482c7e0-aeb2-4920-8ca4-8904f826e3ec\", [{\"type\": \"scatter\", \"x\": [\"name\", \"C\", \"JavaScript\", \"C++\", \"PHP\", \"HTML\", \"Java\", \"Python\", \"CSS\", \"Assembly\", \"C#\", \"Go\", \"Objective-C\", \"Jupyter Notebook\", \"Ruby\", \"TypeScript\"], \"y\": [\"totalBytes\", \"6319402460530\", \"1249267936642\", \"529122299493\", \"519028950155\", \"329636532661\", \"301660587030\", \"181598737440\", \"155046266421\", \"137581430043\", \"136612226532\", \"65753518937\", \"60614108953\", \"54444110173\", \"36483511776\", \"32409649825\"], \"fill\": \"tozeroy\"}], {}, {\"showLink\": true, \"linkText\": \"Export to plot.ly\"})});</script>"
      ],
      "text/vnd.plotly.v1+html": [
       "<div id=\"c482c7e0-aeb2-4920-8ca4-8904f826e3ec\" style=\"height: 525px; width: 100%;\" class=\"plotly-graph-div\"></div><script type=\"text/javascript\">require([\"plotly\"], function(Plotly) { window.PLOTLYENV=window.PLOTLYENV || {};window.PLOTLYENV.BASE_URL=\"https://plot.ly\";Plotly.newPlot(\"c482c7e0-aeb2-4920-8ca4-8904f826e3ec\", [{\"type\": \"scatter\", \"x\": [\"name\", \"C\", \"JavaScript\", \"C++\", \"PHP\", \"HTML\", \"Java\", \"Python\", \"CSS\", \"Assembly\", \"C#\", \"Go\", \"Objective-C\", \"Jupyter Notebook\", \"Ruby\", \"TypeScript\"], \"y\": [\"totalBytes\", \"6319402460530\", \"1249267936642\", \"529122299493\", \"519028950155\", \"329636532661\", \"301660587030\", \"181598737440\", \"155046266421\", \"137581430043\", \"136612226532\", \"65753518937\", \"60614108953\", \"54444110173\", \"36483511776\", \"32409649825\"], \"fill\": \"tozeroy\"}], {}, {\"showLink\": true, \"linkText\": \"Export to plot.ly\"})});</script>"
      ]
     },
     "metadata": {},
     "output_type": "display_data"
    }
   ],
   "source": [
    "import plotly as py\n",
    "from plotly.graph_objs import *\n",
    "import pandas\n",
    "py.offline.init_notebook_mode(connected=True)\n",
    "\n",
    "col = ['name', 'totalBytes', '']\n",
    "csv_data = pandas.read_csv('most_bytes.csv', names=col)\n",
    "lang = csv_data.name.tolist()\n",
    "byte = csv_data.totalBytes.tolist()\n",
    "\n",
    "\n",
    "x = lang\n",
    "y = byte\n",
    "\n",
    "trace1 = Scatter(\n",
    "    x=lang,\n",
    "    y=byte,\n",
    "    fill='tozeroy'\n",
    ")\n",
    "\n",
    "\n",
    "labels = lang\n",
    "values = byte\n",
    "\n",
    "\n",
    "py.offline.iplot([trace1])"
   ]
  },
  {
   "cell_type": "markdown",
   "metadata": {},
   "source": [
    "## 15 Languages that use the Least Amount of Bytes"
   ]
  },
  {
   "cell_type": "code",
   "execution_count": 5,
   "metadata": {},
   "outputs": [
    {
     "data": {
      "text/html": [
       "<script>requirejs.config({paths: { 'plotly': ['https://cdn.plot.ly/plotly-latest.min']},});if(!window.Plotly) {{require(['plotly'],function(plotly) {window.Plotly=plotly;});}}</script>"
      ],
      "text/vnd.plotly.v1+html": [
       "<script>requirejs.config({paths: { 'plotly': ['https://cdn.plot.ly/plotly-latest.min']},});if(!window.Plotly) {{require(['plotly'],function(plotly) {window.Plotly=plotly;});}}</script>"
      ]
     },
     "metadata": {},
     "output_type": "display_data"
    },
    {
     "data": {
      "application/vnd.plotly.v1+json": {
       "data": [
        {
         "fill": "tozeroy",
         "type": "scatter",
         "x": [
          "DataWeave",
          "Omgrofl",
          "NetLinx+ERB",
          "Befunge",
          "ShellSession",
          "Opal",
          "RUNOFF",
          "TI Program",
          "Myghty",
          "Dogescript",
          "Moocode",
          "Genie",
          "Nearley",
          "LFE",
          "Markdown"
         ],
         "y": [
          "238",
          "2301",
          "9031",
          "10120",
          "15416",
          "33717",
          "42672",
          "58983",
          "85961",
          "110909",
          "116352",
          "126883",
          "204852",
          "216024",
          "234650"
         ]
        }
       ],
       "layout": {}
      },
      "text/html": [
       "<div id=\"7b8c2e7f-2b92-4a6e-92d2-1d8d9f2bfd04\" style=\"height: 525px; width: 100%;\" class=\"plotly-graph-div\"></div><script type=\"text/javascript\">require([\"plotly\"], function(Plotly) { window.PLOTLYENV=window.PLOTLYENV || {};window.PLOTLYENV.BASE_URL=\"https://plot.ly\";Plotly.newPlot(\"7b8c2e7f-2b92-4a6e-92d2-1d8d9f2bfd04\", [{\"type\": \"scatter\", \"x\": [\"DataWeave\", \"Omgrofl\", \"NetLinx+ERB\", \"Befunge\", \"ShellSession\", \"Opal\", \"RUNOFF\", \"TI Program\", \"Myghty\", \"Dogescript\", \"Moocode\", \"Genie\", \"Nearley\", \"LFE\", \"Markdown\"], \"y\": [\"238\", \"2301\", \"9031\", \"10120\", \"15416\", \"33717\", \"42672\", \"58983\", \"85961\", \"110909\", \"116352\", \"126883\", \"204852\", \"216024\", \"234650\"], \"fill\": \"tozeroy\"}], {}, {\"showLink\": true, \"linkText\": \"Export to plot.ly\"})});</script>"
      ],
      "text/vnd.plotly.v1+html": [
       "<div id=\"7b8c2e7f-2b92-4a6e-92d2-1d8d9f2bfd04\" style=\"height: 525px; width: 100%;\" class=\"plotly-graph-div\"></div><script type=\"text/javascript\">require([\"plotly\"], function(Plotly) { window.PLOTLYENV=window.PLOTLYENV || {};window.PLOTLYENV.BASE_URL=\"https://plot.ly\";Plotly.newPlot(\"7b8c2e7f-2b92-4a6e-92d2-1d8d9f2bfd04\", [{\"type\": \"scatter\", \"x\": [\"DataWeave\", \"Omgrofl\", \"NetLinx+ERB\", \"Befunge\", \"ShellSession\", \"Opal\", \"RUNOFF\", \"TI Program\", \"Myghty\", \"Dogescript\", \"Moocode\", \"Genie\", \"Nearley\", \"LFE\", \"Markdown\"], \"y\": [\"238\", \"2301\", \"9031\", \"10120\", \"15416\", \"33717\", \"42672\", \"58983\", \"85961\", \"110909\", \"116352\", \"126883\", \"204852\", \"216024\", \"234650\"], \"fill\": \"tozeroy\"}], {}, {\"showLink\": true, \"linkText\": \"Export to plot.ly\"})});</script>"
      ]
     },
     "metadata": {},
     "output_type": "display_data"
    }
   ],
   "source": [
    "import plotly as py\n",
    "from plotly.graph_objs import *\n",
    "import pandas\n",
    "py.offline.init_notebook_mode(connected=True)\n",
    "\n",
    "col = ['name', 'totalBytes', '']\n",
    "csv_data = pandas.read_csv('least_bytes.csv', names=col)\n",
    "lang = csv_data.name.tolist()\n",
    "lang.pop(0)\n",
    "byte = csv_data.totalBytes.tolist()\n",
    "byte.pop(0)\n",
    "\n",
    "x = lang\n",
    "y = byte\n",
    "\n",
    "trace = Scatter(\n",
    "    x=lang,\n",
    "    y=byte,\n",
    "    fill='tozeroy'\n",
    ")\n",
    "\n",
    "\n",
    "labels = lang\n",
    "values = byte\n",
    "\n",
    "\n",
    "py.offline.iplot([trace])"
   ]
  },
  {
   "cell_type": "markdown",
   "metadata": {},
   "source": [
    "# 4. Describe possible applications of this data, Including your ideas for the next phase\n",
    "An application for this data is seeing what type of programs use more storage than others allowing a system administrator to give certain users more storage based on their favorite language. One interesting application will be seeing which libraries are commonly used (also see what type of libraries are most commonly used like reading json/csv files, machine learning, etc.) and can go a step further and seeing what are the top 10 libraries for each language for each year. We will be using this data to predict which languages will be expected to be used the most in 2018 and 2019. Since we also get information like commits, we can use this data to see average commits, average time between commits, and see average lifetime of a repository. We are also able to see contents of every file in any public repository, so we can use the contents to teach a machine learning algorithm to tell the difference between python and javascript or between java and c++, etc."
   ]
  },
  {
   "cell_type": "markdown",
   "metadata": {},
   "source": [
    "# Machine Learning - Language Interpreting"
   ]
  },
  {
   "cell_type": "markdown",
   "metadata": {},
   "source": [
    "With the amount of programs on github, we were able to train a model to determine what language a program is based on the top 8 programming languages which were Java, C, C++, C#, Objective-c, Python, Ruby, and Javascript. We used regex to create features since programming languages require a structure to tell one apart from another. For example, Java, C, C++, and many other oop languages share the same for loop structure but have other distinct features that can differentiate each one. One problem which is hard to avoid is small programs that have the same structure as other languages but without the distinct features which can cause a false reading. One way to fix this is to require a certain number of lines to increase the chance of a distinct feature occurring but even then it could still fail."
   ]
  },
  {
   "cell_type": "markdown",
   "metadata": {},
   "source": [
    "We are also able to see contents of every file in any public repository, so we can use the contents to teach a machine learning algorithm to tell the difference between python and javascript or between java and c++, etc. For this process we went through we gathered the data from the Github's dataset on Google where we looked at both their `files` table and `content` table. We had to `JOIN` both tables based on file ids so we could get filenames and content together. From there we decided for our machine learning algorithm we would use Decision Trees to train our machine in recognizing the 8 most popular langauges."
   ]
  },
  {
   "cell_type": "markdown",
   "metadata": {},
   "source": [
    "# Conclusion"
   ]
  },
  {
   "cell_type": "markdown",
   "metadata": {},
   "source": [
    "## Acknowledgments\n",
    "* [Github API (js)](https://github.com/octokit/rest.js)\n",
    "* [csv (js)](https://www.npmjs.com/package/csv)\n",
    "* [jsonfile (js)](https://www.npmjs.com/package/jsonfile)\n",
    "* [BigQuery](https://bigquery.cloud.google.com)\n",
    "* [Plotly](https://plot.ly/python/)"
   ]
  },
  {
   "cell_type": "code",
   "execution_count": null,
   "metadata": {},
   "outputs": [],
   "source": []
  }
 ],
 "metadata": {
  "kernelspec": {
   "display_name": "Python 3",
   "language": "python",
   "name": "python3"
  },
  "language_info": {
   "codemirror_mode": {
    "name": "ipython",
    "version": 3
   },
   "file_extension": ".py",
   "mimetype": "text/x-python",
   "name": "python",
   "nbconvert_exporter": "python",
   "pygments_lexer": "ipython3",
   "version": "3.6.3"
  }
 },
 "nbformat": 4,
 "nbformat_minor": 2
}
